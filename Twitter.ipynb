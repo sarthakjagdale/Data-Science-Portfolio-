{
  "nbformat": 4,
  "nbformat_minor": 0,
  "metadata": {
    "colab": {
      "name": "Twitter.ipynb",
      "provenance": [],
      "collapsed_sections": [],
      "authorship_tag": "ABX9TyPNtG98RWkCD9NOJ4d7s5dU",
      "include_colab_link": true
    },
    "kernelspec": {
      "name": "python3",
      "display_name": "Python 3"
    },
    "language_info": {
      "name": "python"
    }
  },
  "cells": [
    {
      "cell_type": "markdown",
      "metadata": {
        "id": "view-in-github",
        "colab_type": "text"
      },
      "source": [
        "<a href=\"https://colab.research.google.com/github/Sarthakjagdale/Data-Science-Portfolio-/blob/master/Twitter.ipynb\" target=\"_parent\"><img src=\"https://colab.research.google.com/assets/colab-badge.svg\" alt=\"Open In Colab\"/></a>"
      ]
    },
    {
      "cell_type": "code",
      "metadata": {
        "colab": {
          "base_uri": "https://localhost:8080/"
        },
        "id": "cDRVtLC0KS5S",
        "outputId": "87160763-ede6-4b8d-c062-35dd023f3eb7"
      },
      "source": [
        "import os\n",
        "import tweepy as tw\n",
        "import pandas as pd\n",
        "\n",
        "consumer_key = 'GdRs1Vfi3TyZC33KBRmepgBSQ'\n",
        "consumer_secret = 'MkwW8QDZ7BOlYBwgeklimNdvmDOHItJRyR1o2B7xIq1QOEGMqX' \n",
        "access_token = '970791066-da3o6N4GzvR6kMYh2Rua5sqxY4isfiqRkZqNqwlY' \n",
        "access_token_secret = 'Qbp6HNiUPYeA31xzbGywles4VJzSBg7AeMv8jA2MVabCB'\n",
        "\n",
        "auth = tw.OAuthHandler(consumer_key, consumer_secret)\n",
        "auth.set_access_token(access_token, access_token_secret)\n",
        "api = tw.API(auth, wait_on_rate_limit=True)\n",
        "\n",
        "# Define the search term and the date_since date as variables\n",
        "search_words = \"#janushenderson\"\n",
        "date_since = \"2021-09-20\"\n",
        "\n",
        "# Collect tweets\n",
        "tweets = tw.Cursor(api.search,\n",
        "              q=search_words,\n",
        "              lang=\"en\",\n",
        "              since=date_since).items(5)\n",
        "tweets\n",
        "\n",
        "\n",
        "# Collect tweets\n",
        "tweets = tw.Cursor(api.search,\n",
        "              q=search_words,\n",
        "              lang=\"en\",\n",
        "              since=date_since).items(5)\n",
        "\n",
        "# Iterate and print tweets\n",
        "for tweet in tweets:\n",
        "    print(tweet.text)\n",
        "    \n"
      ],
      "execution_count": 2,
      "outputs": [
        {
          "output_type": "stream",
          "name": "stdout",
          "text": [
            "Leverage #JanusHenderson's global view and gain insight into the equity market with the latest edition of… https://t.co/3sO6PSscpr\n",
            "Financial education as a child can lead to better financial behaviors as an adult. Retirement Director Ben Rizzuto… https://t.co/JWvoXuw6D4\n",
            "We're thrilled our Global Head of Enterprise Data, Suzanne is listed in @LGBTGreat's Project 1000 Role Models, whic… https://t.co/O4eIGTQZeQ\n",
            "#JanusHenderson shall launch a new #ETF offering significant opportunities for sustainable #investing.\n",
            "https://t.co/Ge10yUM2OX\n",
            "Capping the four-part series Fixed Income in Retirement Plan Lineups, the Portfolio Construction and Strategy team… https://t.co/hTzA14yEan\n"
          ]
        }
      ]
    },
    {
      "cell_type": "code",
      "metadata": {
        "id": "B3HFowj9KpDl"
      },
      "source": [
        "# Collect tweets\n",
        "tweets = tw.Cursor(api.search,\n",
        "                       q=search_words,\n",
        "                       lang=\"en\",\n",
        "                       since=date_since).items(5)\n",
        "\n"
      ],
      "execution_count": 3,
      "outputs": []
    },
    {
      "cell_type": "code",
      "metadata": {
        "colab": {
          "base_uri": "https://localhost:8080/",
          "height": 205
        },
        "id": "30fdSSwrKpep",
        "outputId": "32fd5173-f963-4de8-d181-fdad6c33b11a"
      },
      "source": [
        "# Collect a list of tweets\n",
        "[tweet.text for tweet in tweets]\n",
        "new_search = search_words + \" -filter:retweets\"\n",
        "new_search\n",
        "\n",
        "tweets = tw.Cursor(api.search, \n",
        "                           q=new_search,\n",
        "                           lang=\"en\",\n",
        "                           since=date_since).items(5)\n",
        "\n",
        "users_locs = [[tweet.user.screen_name, tweet.user.location] for tweet in tweets]\n",
        "\n",
        "tweet_text = pd.DataFrame(data=users_locs, \n",
        "                    columns=['user', \"location\"])\n",
        "tweet_text.head(10)\n",
        "\n"
      ],
      "execution_count": 4,
      "outputs": [
        {
          "output_type": "execute_result",
          "data": {
            "text/html": [
              "<div>\n",
              "<style scoped>\n",
              "    .dataframe tbody tr th:only-of-type {\n",
              "        vertical-align: middle;\n",
              "    }\n",
              "\n",
              "    .dataframe tbody tr th {\n",
              "        vertical-align: top;\n",
              "    }\n",
              "\n",
              "    .dataframe thead th {\n",
              "        text-align: right;\n",
              "    }\n",
              "</style>\n",
              "<table border=\"1\" class=\"dataframe\">\n",
              "  <thead>\n",
              "    <tr style=\"text-align: right;\">\n",
              "      <th></th>\n",
              "      <th>user</th>\n",
              "      <th>location</th>\n",
              "    </tr>\n",
              "  </thead>\n",
              "  <tbody>\n",
              "    <tr>\n",
              "      <th>0</th>\n",
              "      <td>JHIAdvisors</td>\n",
              "      <td>Global</td>\n",
              "    </tr>\n",
              "    <tr>\n",
              "      <th>1</th>\n",
              "      <td>JHIAdvisors</td>\n",
              "      <td>Global</td>\n",
              "    </tr>\n",
              "    <tr>\n",
              "      <th>2</th>\n",
              "      <td>JHIAdvisors</td>\n",
              "      <td>Global</td>\n",
              "    </tr>\n",
              "    <tr>\n",
              "      <th>3</th>\n",
              "      <td>kalkineau</td>\n",
              "      <td>Sydney, Australia</td>\n",
              "    </tr>\n",
              "    <tr>\n",
              "      <th>4</th>\n",
              "      <td>JHIAdvisors</td>\n",
              "      <td>Global</td>\n",
              "    </tr>\n",
              "  </tbody>\n",
              "</table>\n",
              "</div>"
            ],
            "text/plain": [
              "          user           location\n",
              "0  JHIAdvisors             Global\n",
              "1  JHIAdvisors             Global\n",
              "2  JHIAdvisors             Global\n",
              "3    kalkineau  Sydney, Australia\n",
              "4  JHIAdvisors             Global"
            ]
          },
          "metadata": {},
          "execution_count": 4
        }
      ]
    },
    {
      "cell_type": "code",
      "metadata": {
        "colab": {
          "base_uri": "https://localhost:8080/"
        },
        "id": "6rYA-Ov7Kpts",
        "outputId": "1d618623-b329-4eb8-f466-a8f6a5b330cd"
      },
      "source": [
        "new_search = \"janus henderson -filter:retweets\"\n",
        "\n",
        "tweets = tw.Cursor(api.search,\n",
        "                   q=new_search,\n",
        "                   lang=\"en\",\n",
        "                   since='2020-04-23').items(1000)\n",
        "\n",
        "all_tweets = [tweet.text for tweet in tweets]\n",
        "all_tweets[:5]"
      ],
      "execution_count": 5,
      "outputs": [
        {
          "output_type": "execute_result",
          "data": {
            "text/plain": [
              "['Investors, look alive! @JHIAdvisors has just launched five new ESG EFTs worth a second look for your portfolio 👀  https://t.co/vuqI5VKYTq',\n",
              " '#FundFriday read the in-depth review of the rated \\n\\nJanus Henderson Strategic Bond\\n\\nRegister to read the full Fund… https://t.co/vaqxc9SD0k',\n",
              " \"Catch up with Jenna &amp; John with their latest  podcast;  Global perspectives - no one's listening to the bond market… https://t.co/g2G3QjsFOh\",\n",
              " 'Janus Henderson, Global Head of Enterprise Data Management: Best Practices in Governance Program\\n\\nFollow this link… https://t.co/DLCtIhfMmI',\n",
              " 'Jennifer James, Emerging Market Credit Portfolio Manager at Janus Henderson Investors, explores how the People’s Ba… https://t.co/HAz9XtBC0q']"
            ]
          },
          "metadata": {},
          "execution_count": 5
        }
      ]
    },
    {
      "cell_type": "code",
      "metadata": {
        "id": "wOEPHAiDLDv3"
      },
      "source": [
        ""
      ],
      "execution_count": null,
      "outputs": []
    }
  ]
}